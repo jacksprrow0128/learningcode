{
 "cells": [
  {
   "cell_type": "code",
   "execution_count": 2,
   "id": "319d4bed",
   "metadata": {},
   "outputs": [],
   "source": [
    "from random import choice\n",
    "class Randomwalk():\n",
    "    #生成随机漫步数据的类\n",
    "    def __init__(self,num_points=5000):\n",
    "        #初始化随机漫步的属性\n",
    "        self.num_points=num_points#变量值等于参数值\n",
    "        \n",
    "        #所有随机漫步都始于（0，0）\n",
    "        self.x_value=[0]\n",
    "        self.y_value=[0]\n",
    "    def fill_walk(self):\n",
    "        #计算随机漫步包含所有的点\n",
    "        #不断漫步，直到列表达到指定长度\n",
    "        while len(self.x_value)<self.num_points:\n",
    "        #决定前进方向以及沿着个方向前进的距离\n",
    "            x_dir =choice([1,-1])\n",
    "            x_dis =choice([0,1,2,3,4])\n",
    "            x_step = x_dir*x_dis\n",
    "            y_dir =choice([1,-1])\n",
    "            y_dis =choice([0,1,2,3,4])\n",
    "            y_step = y_dir*y_dis\n",
    "            if x_step ==0 and y_step == 0 :\n",
    "                continue\n",
    "            next_x = self.x_value[-1]+x_step\n",
    "            next_y = self.y_value[-1]+y_step\n",
    "            \n",
    "            self.x_value.append(next_x)\n",
    "            self.y_value.append(next_y)"
   ]
  }
 ],
 "metadata": {
  "kernelspec": {
   "display_name": "Python 3",
   "language": "python",
   "name": "python3"
  },
  "language_info": {
   "codemirror_mode": {
    "name": "ipython",
    "version": 3
   },
   "file_extension": ".py",
   "mimetype": "text/x-python",
   "name": "python",
   "nbconvert_exporter": "python",
   "pygments_lexer": "ipython3",
   "version": "3.8.8"
  },
  "toc": {
   "base_numbering": 1,
   "nav_menu": {},
   "number_sections": true,
   "sideBar": true,
   "skip_h1_title": false,
   "title_cell": "Table of Contents",
   "title_sidebar": "Contents",
   "toc_cell": false,
   "toc_position": {},
   "toc_section_display": true,
   "toc_window_display": false
  }
 },
 "nbformat": 4,
 "nbformat_minor": 5
}
